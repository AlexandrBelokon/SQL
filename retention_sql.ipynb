{
  "nbformat": 4,
  "nbformat_minor": 0,
  "metadata": {
    "colab": {
      "name": "retention_sql.ipynb",
      "provenance": []
    },
    "kernelspec": {
      "name": "python3",
      "display_name": "Python 3"
    },
    "language_info": {
      "name": "python"
    }
  },
  "cells": [
    {
      "cell_type": "code",
      "metadata": {
        "id": "BckWgL6ohafA"
      },
      "source": [
        "!gdown --id 1BSHIKQ7rFw5BpTq5nw1UZfjPK_7Mpnbi\n",
        "!mv _sqlite3.cpython-37m-x86_64-linux-gnu.so /usr/lib/python3.7/lib-dynload/\n",
        "import os\n",
        "os.kill(os.getpid(), 9)"
      ],
      "execution_count": null,
      "outputs": []
    },
    {
      "cell_type": "markdown",
      "metadata": {
        "id": "EFVml6JMuPs0"
      },
      "source": [
        "В июле проводилась специальная акция, направленная на улучшение показателя Retention. Новым пользователям присылали письмо с купоном. Какой эффект от данной акции?"
      ]
    },
    {
      "cell_type": "markdown",
      "metadata": {
        "id": "dh4ADiKji-LZ"
      },
      "source": [
        "# Импорт библиотек"
      ]
    },
    {
      "cell_type": "code",
      "metadata": {
        "id": "zDTljgLXhqyG"
      },
      "source": [
        "import sqlite3\n",
        "import pandas as pd\n",
        "import numpy as np"
      ],
      "execution_count": 1,
      "outputs": []
    },
    {
      "cell_type": "code",
      "metadata": {
        "id": "UMzL1ZcEhqwL"
      },
      "source": [
        "con = sqlite3.connect('db')"
      ],
      "execution_count": 2,
      "outputs": []
    },
    {
      "cell_type": "markdown",
      "metadata": {
        "id": "nfbHzZ1HjlUL"
      },
      "source": [
        "Объект курсора используется для выполнения команд и запросов SQL"
      ]
    },
    {
      "cell_type": "code",
      "metadata": {
        "id": "HDE68rV-hqts"
      },
      "source": [
        "cur = con.cursor()"
      ],
      "execution_count": 3,
      "outputs": []
    },
    {
      "cell_type": "markdown",
      "metadata": {
        "id": "wTcFll5RjFsJ"
      },
      "source": [
        "Функция SELECT"
      ]
    },
    {
      "cell_type": "code",
      "metadata": {
        "id": "nvwNdU8Ihqre"
      },
      "source": [
        "def select(sql):\n",
        "  return pd.read_sql(sql,con)"
      ],
      "execution_count": 4,
      "outputs": []
    },
    {
      "cell_type": "markdown",
      "metadata": {
        "id": "cIUwJmiWjzSj"
      },
      "source": [
        "Загрузка данных"
      ]
    },
    {
      "cell_type": "markdown",
      "metadata": {
        "id": "lJnrW8Tvh2wb"
      },
      "source": [
        "https://drive.google.com/file/d/1efmNDUGsMpyHTTXK2PXl_32Exk4IdmRX/view?usp=sharing"
      ]
    },
    {
      "cell_type": "code",
      "metadata": {
        "colab": {
          "base_uri": "https://localhost:8080/"
        },
        "id": "QzXh3lzihqpb",
        "outputId": "20ea11cc-9664-4722-d271-4ccaeda45dfa"
      },
      "source": [
        "! gdown --id 1efmNDUGsMpyHTTXK2PXl_32Exk4IdmRX"
      ],
      "execution_count": 5,
      "outputs": [
        {
          "output_type": "stream",
          "name": "stdout",
          "text": [
            "Downloading...\n",
            "From: https://drive.google.com/uc?id=1efmNDUGsMpyHTTXK2PXl_32Exk4IdmRX\n",
            "To: /content/analyst_test_transactions_db.csv\n",
            "\r  0% 0.00/3.07M [00:00<?, ?B/s]\r100% 3.07M/3.07M [00:00<00:00, 98.8MB/s]\n"
          ]
        }
      ]
    },
    {
      "cell_type": "code",
      "metadata": {
        "id": "HhZAllmRhqm_"
      },
      "source": [
        "df = pd.read_csv('/content/analyst_test_transactions_db.csv')"
      ],
      "execution_count": 6,
      "outputs": []
    },
    {
      "cell_type": "code",
      "metadata": {
        "colab": {
          "base_uri": "https://localhost:8080/"
        },
        "id": "xuH283qdhqkn",
        "outputId": "bacda02b-f8c3-4848-8420-7c659bff6039"
      },
      "source": [
        "df.info()"
      ],
      "execution_count": 8,
      "outputs": [
        {
          "output_type": "stream",
          "name": "stdout",
          "text": [
            "<class 'pandas.core.frame.DataFrame'>\n",
            "RangeIndex: 76857 entries, 0 to 76856\n",
            "Data columns (total 5 columns):\n",
            " #   Column            Non-Null Count  Dtype  \n",
            "---  ------            --------------  -----  \n",
            " 0   user_id           76857 non-null  int64  \n",
            " 1   order_id          76857 non-null  float64\n",
            " 2   reg_date          76857 non-null  object \n",
            " 3   transaction_date  76857 non-null  object \n",
            " 4   revenue           76857 non-null  int64  \n",
            "dtypes: float64(1), int64(2), object(2)\n",
            "memory usage: 2.9+ MB\n"
          ]
        }
      ]
    },
    {
      "cell_type": "markdown",
      "metadata": {
        "id": "MmUBvpmNj3fO"
      },
      "source": [
        "Перевод в формат ДАТЫ"
      ]
    },
    {
      "cell_type": "code",
      "metadata": {
        "id": "ekEPppMlh8Ol"
      },
      "source": [
        "df['reg_date'] = pd.to_datetime(df['reg_date'],format='%Y-%m-%d')\n",
        "df['transaction_date'] = pd.to_datetime(df['transaction_date'],format='%Y-%m-%d')"
      ],
      "execution_count": 9,
      "outputs": []
    },
    {
      "cell_type": "code",
      "metadata": {
        "id": "9b9nlXSSirRC"
      },
      "source": [
        "df.to_sql('trans',con,index=False,if_exists='replace')"
      ],
      "execution_count": 12,
      "outputs": []
    },
    {
      "cell_type": "code",
      "metadata": {
        "id": "VIBGk91RisXJ"
      },
      "source": [
        "sql = '''\n",
        "SELECT\n",
        "  * \n",
        "FROM \n",
        "  trans t'''"
      ],
      "execution_count": 13,
      "outputs": []
    },
    {
      "cell_type": "code",
      "metadata": {
        "colab": {
          "base_uri": "https://localhost:8080/",
          "height": 424
        },
        "id": "2srvsGuyisVJ",
        "outputId": "4da8a3cb-c35e-4b27-ca4b-38e7cb1d697e"
      },
      "source": [
        "select(sql)"
      ],
      "execution_count": 14,
      "outputs": [
        {
          "output_type": "execute_result",
          "data": {
            "text/html": [
              "<div>\n",
              "<style scoped>\n",
              "    .dataframe tbody tr th:only-of-type {\n",
              "        vertical-align: middle;\n",
              "    }\n",
              "\n",
              "    .dataframe tbody tr th {\n",
              "        vertical-align: top;\n",
              "    }\n",
              "\n",
              "    .dataframe thead th {\n",
              "        text-align: right;\n",
              "    }\n",
              "</style>\n",
              "<table border=\"1\" class=\"dataframe\">\n",
              "  <thead>\n",
              "    <tr style=\"text-align: right;\">\n",
              "      <th></th>\n",
              "      <th>user_id</th>\n",
              "      <th>order_id</th>\n",
              "      <th>reg_date</th>\n",
              "      <th>transaction_date</th>\n",
              "      <th>revenue</th>\n",
              "    </tr>\n",
              "  </thead>\n",
              "  <tbody>\n",
              "    <tr>\n",
              "      <th>0</th>\n",
              "      <td>57562</td>\n",
              "      <td>94545.0</td>\n",
              "      <td>2013-12-22 00:00:00</td>\n",
              "      <td>2015-07-16 00:00:00</td>\n",
              "      <td>1088</td>\n",
              "    </tr>\n",
              "    <tr>\n",
              "      <th>1</th>\n",
              "      <td>40047</td>\n",
              "      <td>81824.0</td>\n",
              "      <td>2013-11-24 00:00:00</td>\n",
              "      <td>2015-01-19 00:00:00</td>\n",
              "      <td>1027</td>\n",
              "    </tr>\n",
              "    <tr>\n",
              "      <th>2</th>\n",
              "      <td>48153</td>\n",
              "      <td>144851.0</td>\n",
              "      <td>2015-07-03 00:00:00</td>\n",
              "      <td>2015-10-29 00:00:00</td>\n",
              "      <td>601</td>\n",
              "    </tr>\n",
              "    <tr>\n",
              "      <th>3</th>\n",
              "      <td>54591</td>\n",
              "      <td>116111.0</td>\n",
              "      <td>2013-07-12 00:00:00</td>\n",
              "      <td>2015-04-30 00:00:00</td>\n",
              "      <td>881</td>\n",
              "    </tr>\n",
              "    <tr>\n",
              "      <th>4</th>\n",
              "      <td>39789</td>\n",
              "      <td>134943.0</td>\n",
              "      <td>2013-05-25 00:00:00</td>\n",
              "      <td>2015-07-21 00:00:00</td>\n",
              "      <td>984</td>\n",
              "    </tr>\n",
              "    <tr>\n",
              "      <th>...</th>\n",
              "      <td>...</td>\n",
              "      <td>...</td>\n",
              "      <td>...</td>\n",
              "      <td>...</td>\n",
              "      <td>...</td>\n",
              "    </tr>\n",
              "    <tr>\n",
              "      <th>76852</th>\n",
              "      <td>36921</td>\n",
              "      <td>163682.0</td>\n",
              "      <td>2015-01-15 00:00:00</td>\n",
              "      <td>2015-03-28 00:00:00</td>\n",
              "      <td>1095</td>\n",
              "    </tr>\n",
              "    <tr>\n",
              "      <th>76853</th>\n",
              "      <td>31360</td>\n",
              "      <td>145146.0</td>\n",
              "      <td>2015-01-04 00:00:00</td>\n",
              "      <td>2015-08-09 00:00:00</td>\n",
              "      <td>547</td>\n",
              "    </tr>\n",
              "    <tr>\n",
              "      <th>76854</th>\n",
              "      <td>56195</td>\n",
              "      <td>8929.0</td>\n",
              "      <td>2012-09-18 00:00:00</td>\n",
              "      <td>2015-11-12 00:00:00</td>\n",
              "      <td>850</td>\n",
              "    </tr>\n",
              "    <tr>\n",
              "      <th>76855</th>\n",
              "      <td>46362</td>\n",
              "      <td>78673.0</td>\n",
              "      <td>2015-02-20 00:00:00</td>\n",
              "      <td>2015-07-21 00:00:00</td>\n",
              "      <td>356</td>\n",
              "    </tr>\n",
              "    <tr>\n",
              "      <th>76856</th>\n",
              "      <td>14872</td>\n",
              "      <td>106067.0</td>\n",
              "      <td>2015-03-13 00:00:00</td>\n",
              "      <td>2015-04-13 00:00:00</td>\n",
              "      <td>1114</td>\n",
              "    </tr>\n",
              "  </tbody>\n",
              "</table>\n",
              "<p>76857 rows × 5 columns</p>\n",
              "</div>"
            ],
            "text/plain": [
              "       user_id  order_id             reg_date     transaction_date  revenue\n",
              "0        57562   94545.0  2013-12-22 00:00:00  2015-07-16 00:00:00     1088\n",
              "1        40047   81824.0  2013-11-24 00:00:00  2015-01-19 00:00:00     1027\n",
              "2        48153  144851.0  2015-07-03 00:00:00  2015-10-29 00:00:00      601\n",
              "3        54591  116111.0  2013-07-12 00:00:00  2015-04-30 00:00:00      881\n",
              "4        39789  134943.0  2013-05-25 00:00:00  2015-07-21 00:00:00      984\n",
              "...        ...       ...                  ...                  ...      ...\n",
              "76852    36921  163682.0  2015-01-15 00:00:00  2015-03-28 00:00:00     1095\n",
              "76853    31360  145146.0  2015-01-04 00:00:00  2015-08-09 00:00:00      547\n",
              "76854    56195    8929.0  2012-09-18 00:00:00  2015-11-12 00:00:00      850\n",
              "76855    46362   78673.0  2015-02-20 00:00:00  2015-07-21 00:00:00      356\n",
              "76856    14872  106067.0  2015-03-13 00:00:00  2015-04-13 00:00:00     1114\n",
              "\n",
              "[76857 rows x 5 columns]"
            ]
          },
          "metadata": {},
          "execution_count": 14
        }
      ]
    },
    {
      "cell_type": "code",
      "metadata": {
        "id": "QtEiPbROisTB"
      },
      "source": [
        "sql = '''\n",
        "SELECT \n",
        "  t.user_id, \n",
        "  DATE(MIN(reg_date),'start of month') AS reg_month \n",
        "FROM \n",
        "  trans t\n",
        "GROUP BY \n",
        "  1'''"
      ],
      "execution_count": 15,
      "outputs": []
    },
    {
      "cell_type": "code",
      "metadata": {
        "colab": {
          "base_uri": "https://localhost:8080/",
          "height": 424
        },
        "id": "uTK6yetOisRM",
        "outputId": "80ef36d2-ab2d-4179-a390-902fd6da991b"
      },
      "source": [
        "select(sql)"
      ],
      "execution_count": 16,
      "outputs": [
        {
          "output_type": "execute_result",
          "data": {
            "text/html": [
              "<div>\n",
              "<style scoped>\n",
              "    .dataframe tbody tr th:only-of-type {\n",
              "        vertical-align: middle;\n",
              "    }\n",
              "\n",
              "    .dataframe tbody tr th {\n",
              "        vertical-align: top;\n",
              "    }\n",
              "\n",
              "    .dataframe thead th {\n",
              "        text-align: right;\n",
              "    }\n",
              "</style>\n",
              "<table border=\"1\" class=\"dataframe\">\n",
              "  <thead>\n",
              "    <tr style=\"text-align: right;\">\n",
              "      <th></th>\n",
              "      <th>user_id</th>\n",
              "      <th>reg_month</th>\n",
              "    </tr>\n",
              "  </thead>\n",
              "  <tbody>\n",
              "    <tr>\n",
              "      <th>0</th>\n",
              "      <td>-37599</td>\n",
              "      <td>2015-01-01</td>\n",
              "    </tr>\n",
              "    <tr>\n",
              "      <th>1</th>\n",
              "      <td>-32239</td>\n",
              "      <td>2015-11-01</td>\n",
              "    </tr>\n",
              "    <tr>\n",
              "      <th>2</th>\n",
              "      <td>-29822</td>\n",
              "      <td>2015-07-01</td>\n",
              "    </tr>\n",
              "    <tr>\n",
              "      <th>3</th>\n",
              "      <td>-29531</td>\n",
              "      <td>2014-09-01</td>\n",
              "    </tr>\n",
              "    <tr>\n",
              "      <th>4</th>\n",
              "      <td>-25337</td>\n",
              "      <td>2015-04-01</td>\n",
              "    </tr>\n",
              "    <tr>\n",
              "      <th>...</th>\n",
              "      <td>...</td>\n",
              "      <td>...</td>\n",
              "    </tr>\n",
              "    <tr>\n",
              "      <th>48209</th>\n",
              "      <td>128964</td>\n",
              "      <td>2015-10-01</td>\n",
              "    </tr>\n",
              "    <tr>\n",
              "      <th>48210</th>\n",
              "      <td>130617</td>\n",
              "      <td>2015-02-01</td>\n",
              "    </tr>\n",
              "    <tr>\n",
              "      <th>48211</th>\n",
              "      <td>131071</td>\n",
              "      <td>2012-04-01</td>\n",
              "    </tr>\n",
              "    <tr>\n",
              "      <th>48212</th>\n",
              "      <td>132484</td>\n",
              "      <td>2015-06-01</td>\n",
              "    </tr>\n",
              "    <tr>\n",
              "      <th>48213</th>\n",
              "      <td>138987</td>\n",
              "      <td>2014-10-01</td>\n",
              "    </tr>\n",
              "  </tbody>\n",
              "</table>\n",
              "<p>48214 rows × 2 columns</p>\n",
              "</div>"
            ],
            "text/plain": [
              "       user_id   reg_month\n",
              "0       -37599  2015-01-01\n",
              "1       -32239  2015-11-01\n",
              "2       -29822  2015-07-01\n",
              "3       -29531  2014-09-01\n",
              "4       -25337  2015-04-01\n",
              "...        ...         ...\n",
              "48209   128964  2015-10-01\n",
              "48210   130617  2015-02-01\n",
              "48211   131071  2012-04-01\n",
              "48212   132484  2015-06-01\n",
              "48213   138987  2014-10-01\n",
              "\n",
              "[48214 rows x 2 columns]"
            ]
          },
          "metadata": {},
          "execution_count": 16
        }
      ]
    },
    {
      "cell_type": "code",
      "metadata": {
        "id": "HGj2pexjisPa"
      },
      "source": [
        "min = '''\n",
        "SELECT \n",
        "  DATE(MIN(t.transaction_date),'start of month') \n",
        "FROM \n",
        "  trans t'''"
      ],
      "execution_count": 17,
      "outputs": []
    },
    {
      "cell_type": "code",
      "metadata": {
        "id": "Khcw9uyxisM8"
      },
      "source": [
        "max = '''\n",
        "SELECT \n",
        "  DATE(MAX(t.transaction_date),'start of month') \n",
        "FROM \n",
        "  trans t'''"
      ],
      "execution_count": 18,
      "outputs": []
    },
    {
      "cell_type": "code",
      "metadata": {
        "colab": {
          "base_uri": "https://localhost:8080/",
          "height": 81
        },
        "id": "VMOW33wykunM",
        "outputId": "d3f8debe-0be8-44e3-c1e0-391beae2e78b"
      },
      "source": [
        "select(min)"
      ],
      "execution_count": 20,
      "outputs": [
        {
          "output_type": "execute_result",
          "data": {
            "text/html": [
              "<div>\n",
              "<style scoped>\n",
              "    .dataframe tbody tr th:only-of-type {\n",
              "        vertical-align: middle;\n",
              "    }\n",
              "\n",
              "    .dataframe tbody tr th {\n",
              "        vertical-align: top;\n",
              "    }\n",
              "\n",
              "    .dataframe thead th {\n",
              "        text-align: right;\n",
              "    }\n",
              "</style>\n",
              "<table border=\"1\" class=\"dataframe\">\n",
              "  <thead>\n",
              "    <tr style=\"text-align: right;\">\n",
              "      <th></th>\n",
              "      <th>DATE(MIN(t.transaction_date),'start of month')</th>\n",
              "    </tr>\n",
              "  </thead>\n",
              "  <tbody>\n",
              "    <tr>\n",
              "      <th>0</th>\n",
              "      <td>2015-01-01</td>\n",
              "    </tr>\n",
              "  </tbody>\n",
              "</table>\n",
              "</div>"
            ],
            "text/plain": [
              "  DATE(MIN(t.transaction_date),'start of month')\n",
              "0                                     2015-01-01"
            ]
          },
          "metadata": {},
          "execution_count": 20
        }
      ]
    },
    {
      "cell_type": "code",
      "metadata": {
        "colab": {
          "base_uri": "https://localhost:8080/",
          "height": 81
        },
        "id": "VnoZHfD8isKy",
        "outputId": "f55ea8ca-88b2-4fa1-b321-43d07d8f02b7"
      },
      "source": [
        "select(max)"
      ],
      "execution_count": 19,
      "outputs": [
        {
          "output_type": "execute_result",
          "data": {
            "text/html": [
              "<div>\n",
              "<style scoped>\n",
              "    .dataframe tbody tr th:only-of-type {\n",
              "        vertical-align: middle;\n",
              "    }\n",
              "\n",
              "    .dataframe tbody tr th {\n",
              "        vertical-align: top;\n",
              "    }\n",
              "\n",
              "    .dataframe thead th {\n",
              "        text-align: right;\n",
              "    }\n",
              "</style>\n",
              "<table border=\"1\" class=\"dataframe\">\n",
              "  <thead>\n",
              "    <tr style=\"text-align: right;\">\n",
              "      <th></th>\n",
              "      <th>DATE(MAX(t.transaction_date),'start of month')</th>\n",
              "    </tr>\n",
              "  </thead>\n",
              "  <tbody>\n",
              "    <tr>\n",
              "      <th>0</th>\n",
              "      <td>2015-11-01</td>\n",
              "    </tr>\n",
              "  </tbody>\n",
              "</table>\n",
              "</div>"
            ],
            "text/plain": [
              "  DATE(MAX(t.transaction_date),'start of month')\n",
              "0                                     2015-11-01"
            ]
          },
          "metadata": {},
          "execution_count": 19
        }
      ]
    },
    {
      "cell_type": "markdown",
      "metadata": {
        "id": "OAXhmnYUkzPy"
      },
      "source": [
        "Генерация диапазона дат (календарь)"
      ]
    },
    {
      "cell_type": "code",
      "metadata": {
        "id": "lgpDqbqGisIh"
      },
      "source": [
        "sql = f'''\n",
        "WITH RECURSIVE dates(date) AS (\n",
        "  VALUES(({min}))\n",
        "  \n",
        "  UNION ALL\n",
        "\n",
        "  SELECT \n",
        "    date(date, '+1 month')\n",
        "  FROM \n",
        "    dates\n",
        "  WHERE \n",
        "    date < ({max})\n",
        ")\n",
        "SELECT \n",
        "  date \n",
        "FROM \n",
        "  dates'''"
      ],
      "execution_count": 23,
      "outputs": []
    },
    {
      "cell_type": "code",
      "metadata": {
        "colab": {
          "base_uri": "https://localhost:8080/",
          "height": 394
        },
        "id": "-9kbrT-2isGb",
        "outputId": "cb834002-afe9-4fcf-8a0f-ebb6c4a047f2"
      },
      "source": [
        "select(sql)"
      ],
      "execution_count": 24,
      "outputs": [
        {
          "output_type": "execute_result",
          "data": {
            "text/html": [
              "<div>\n",
              "<style scoped>\n",
              "    .dataframe tbody tr th:only-of-type {\n",
              "        vertical-align: middle;\n",
              "    }\n",
              "\n",
              "    .dataframe tbody tr th {\n",
              "        vertical-align: top;\n",
              "    }\n",
              "\n",
              "    .dataframe thead th {\n",
              "        text-align: right;\n",
              "    }\n",
              "</style>\n",
              "<table border=\"1\" class=\"dataframe\">\n",
              "  <thead>\n",
              "    <tr style=\"text-align: right;\">\n",
              "      <th></th>\n",
              "      <th>date</th>\n",
              "    </tr>\n",
              "  </thead>\n",
              "  <tbody>\n",
              "    <tr>\n",
              "      <th>0</th>\n",
              "      <td>2015-01-01</td>\n",
              "    </tr>\n",
              "    <tr>\n",
              "      <th>1</th>\n",
              "      <td>2015-02-01</td>\n",
              "    </tr>\n",
              "    <tr>\n",
              "      <th>2</th>\n",
              "      <td>2015-03-01</td>\n",
              "    </tr>\n",
              "    <tr>\n",
              "      <th>3</th>\n",
              "      <td>2015-04-01</td>\n",
              "    </tr>\n",
              "    <tr>\n",
              "      <th>4</th>\n",
              "      <td>2015-05-01</td>\n",
              "    </tr>\n",
              "    <tr>\n",
              "      <th>5</th>\n",
              "      <td>2015-06-01</td>\n",
              "    </tr>\n",
              "    <tr>\n",
              "      <th>6</th>\n",
              "      <td>2015-07-01</td>\n",
              "    </tr>\n",
              "    <tr>\n",
              "      <th>7</th>\n",
              "      <td>2015-08-01</td>\n",
              "    </tr>\n",
              "    <tr>\n",
              "      <th>8</th>\n",
              "      <td>2015-09-01</td>\n",
              "    </tr>\n",
              "    <tr>\n",
              "      <th>9</th>\n",
              "      <td>2015-10-01</td>\n",
              "    </tr>\n",
              "    <tr>\n",
              "      <th>10</th>\n",
              "      <td>2015-11-01</td>\n",
              "    </tr>\n",
              "  </tbody>\n",
              "</table>\n",
              "</div>"
            ],
            "text/plain": [
              "          date\n",
              "0   2015-01-01\n",
              "1   2015-02-01\n",
              "2   2015-03-01\n",
              "3   2015-04-01\n",
              "4   2015-05-01\n",
              "5   2015-06-01\n",
              "6   2015-07-01\n",
              "7   2015-08-01\n",
              "8   2015-09-01\n",
              "9   2015-10-01\n",
              "10  2015-11-01"
            ]
          },
          "metadata": {},
          "execution_count": 24
        }
      ]
    },
    {
      "cell_type": "code",
      "metadata": {
        "id": "bwkMBQALlTX4"
      },
      "source": [
        "sql = f'''\n",
        "WITH users AS (\n",
        "  SELECT \n",
        "    t.user_id, \n",
        "    DATE(MIN(reg_date),'start of month') AS reg_month \n",
        "  FROM \n",
        "    trans t\n",
        "  GROUP BY \n",
        "    1),\n",
        "\n",
        "dates AS (\n",
        "WITH RECURSIVE dates(date) AS (\n",
        "  VALUES(({min}))\n",
        "  UNION ALL\n",
        "  SELECT \n",
        "    DATE(date, '+1 month')\n",
        "  FROM \n",
        "    dates\n",
        "  WHERE \n",
        "    date < ({max})\n",
        ")\n",
        "  SELECT \n",
        "    date \n",
        "  FROM \n",
        "    dates\n",
        "\n",
        "),\n",
        "\n",
        "template AS (\n",
        "  SELECT \n",
        "    t.user_id, \n",
        "    t.reg_month, \n",
        "    d.date AS month \n",
        "  FROM \n",
        "    users t\n",
        "  JOIN \n",
        "    dates d ON d.date >= t.reg_month),\n",
        "\n",
        "trans_month AS (\n",
        "  SELECT \n",
        "    t.user_id,\n",
        "    DATE(t.transaction_date,'start of month') AS month,\n",
        "    SUM(t.revenue) AS revenue_sum,\n",
        "    COUNT(*) AS transaction_cnt\n",
        "  FROM \n",
        "    trans t\n",
        "  GROUP BY\n",
        "    1, 2\n",
        "),\n",
        "\n",
        "report AS (\n",
        "  SELECT \n",
        "    t.*, \n",
        "    tm.revenue_sum, \n",
        "    tm.transaction_cnt,\n",
        "    CASE WHEN tm.revenue_sum > 0 THEN 1 ELSE 0 END AS active,\n",
        "    ROUND((JULIANDAY(t.month) - JULIANDAY(t.reg_month)) / 30) AS lifetime\n",
        "  FROM \n",
        "    template t\n",
        "  LEFT JOIN \n",
        "    trans_month tm ON t.user_id = tm.user_id AND t.month = tm.month)\n",
        "\n",
        "SELECT \n",
        "  t.reg_month, \n",
        "  t.lifetime, \n",
        "  AVG(t.active) AS retention \n",
        "FROM \n",
        "  report t\n",
        "WHERE \n",
        "  t.reg_month >= '2015-01-01'\n",
        "  --AND t.user_id = 128006\n",
        "GROUP BY \n",
        "  1,2\n",
        "'''"
      ],
      "execution_count": 32,
      "outputs": []
    },
    {
      "cell_type": "code",
      "metadata": {
        "colab": {
          "base_uri": "https://localhost:8080/",
          "height": 424
        },
        "id": "PTFYWZTamz1u",
        "outputId": "94cc1ba0-b50c-4a0e-928f-42aef07cc3bb"
      },
      "source": [
        "select(sql)"
      ],
      "execution_count": 33,
      "outputs": [
        {
          "output_type": "execute_result",
          "data": {
            "text/html": [
              "<div>\n",
              "<style scoped>\n",
              "    .dataframe tbody tr th:only-of-type {\n",
              "        vertical-align: middle;\n",
              "    }\n",
              "\n",
              "    .dataframe tbody tr th {\n",
              "        vertical-align: top;\n",
              "    }\n",
              "\n",
              "    .dataframe thead th {\n",
              "        text-align: right;\n",
              "    }\n",
              "</style>\n",
              "<table border=\"1\" class=\"dataframe\">\n",
              "  <thead>\n",
              "    <tr style=\"text-align: right;\">\n",
              "      <th></th>\n",
              "      <th>reg_month</th>\n",
              "      <th>lifetime</th>\n",
              "      <th>retention</th>\n",
              "    </tr>\n",
              "  </thead>\n",
              "  <tbody>\n",
              "    <tr>\n",
              "      <th>0</th>\n",
              "      <td>2015-01-01</td>\n",
              "      <td>0.0</td>\n",
              "      <td>0.116928</td>\n",
              "    </tr>\n",
              "    <tr>\n",
              "      <th>1</th>\n",
              "      <td>2015-01-01</td>\n",
              "      <td>1.0</td>\n",
              "      <td>0.116056</td>\n",
              "    </tr>\n",
              "    <tr>\n",
              "      <th>2</th>\n",
              "      <td>2015-01-01</td>\n",
              "      <td>2.0</td>\n",
              "      <td>0.129581</td>\n",
              "    </tr>\n",
              "    <tr>\n",
              "      <th>3</th>\n",
              "      <td>2015-01-01</td>\n",
              "      <td>3.0</td>\n",
              "      <td>0.116492</td>\n",
              "    </tr>\n",
              "    <tr>\n",
              "      <th>4</th>\n",
              "      <td>2015-01-01</td>\n",
              "      <td>4.0</td>\n",
              "      <td>0.115183</td>\n",
              "    </tr>\n",
              "    <tr>\n",
              "      <th>...</th>\n",
              "      <td>...</td>\n",
              "      <td>...</td>\n",
              "      <td>...</td>\n",
              "    </tr>\n",
              "    <tr>\n",
              "      <th>61</th>\n",
              "      <td>2015-09-01</td>\n",
              "      <td>1.0</td>\n",
              "      <td>0.381497</td>\n",
              "    </tr>\n",
              "    <tr>\n",
              "      <th>62</th>\n",
              "      <td>2015-09-01</td>\n",
              "      <td>2.0</td>\n",
              "      <td>0.221414</td>\n",
              "    </tr>\n",
              "    <tr>\n",
              "      <th>63</th>\n",
              "      <td>2015-10-01</td>\n",
              "      <td>0.0</td>\n",
              "      <td>0.561974</td>\n",
              "    </tr>\n",
              "    <tr>\n",
              "      <th>64</th>\n",
              "      <td>2015-10-01</td>\n",
              "      <td>1.0</td>\n",
              "      <td>0.448857</td>\n",
              "    </tr>\n",
              "    <tr>\n",
              "      <th>65</th>\n",
              "      <td>2015-11-01</td>\n",
              "      <td>0.0</td>\n",
              "      <td>1.000000</td>\n",
              "    </tr>\n",
              "  </tbody>\n",
              "</table>\n",
              "<p>66 rows × 3 columns</p>\n",
              "</div>"
            ],
            "text/plain": [
              "     reg_month  lifetime  retention\n",
              "0   2015-01-01       0.0   0.116928\n",
              "1   2015-01-01       1.0   0.116056\n",
              "2   2015-01-01       2.0   0.129581\n",
              "3   2015-01-01       3.0   0.116492\n",
              "4   2015-01-01       4.0   0.115183\n",
              "..         ...       ...        ...\n",
              "61  2015-09-01       1.0   0.381497\n",
              "62  2015-09-01       2.0   0.221414\n",
              "63  2015-10-01       0.0   0.561974\n",
              "64  2015-10-01       1.0   0.448857\n",
              "65  2015-11-01       0.0   1.000000\n",
              "\n",
              "[66 rows x 3 columns]"
            ]
          },
          "metadata": {},
          "execution_count": 33
        }
      ]
    },
    {
      "cell_type": "code",
      "metadata": {
        "id": "An3_K5pEm0x9"
      },
      "source": [
        "t = select(sql)"
      ],
      "execution_count": 34,
      "outputs": []
    },
    {
      "cell_type": "code",
      "metadata": {
        "colab": {
          "base_uri": "https://localhost:8080/",
          "height": 637
        },
        "id": "sQ06N5Cet2iB",
        "outputId": "5f975dcd-e8ed-4488-ca2a-32efe36e5124"
      },
      "source": [
        "t.pivot_table(index='reg_month',columns='lifetime',values='retention',aggfunc='max')"
      ],
      "execution_count": 35,
      "outputs": [
        {
          "output_type": "execute_result",
          "data": {
            "text/html": [
              "<div>\n",
              "<style scoped>\n",
              "    .dataframe tbody tr th:only-of-type {\n",
              "        vertical-align: middle;\n",
              "    }\n",
              "\n",
              "    .dataframe tbody tr th {\n",
              "        vertical-align: top;\n",
              "    }\n",
              "\n",
              "    .dataframe thead th {\n",
              "        text-align: right;\n",
              "    }\n",
              "</style>\n",
              "<table border=\"1\" class=\"dataframe\">\n",
              "  <thead>\n",
              "    <tr style=\"text-align: right;\">\n",
              "      <th>lifetime</th>\n",
              "      <th>0.0</th>\n",
              "      <th>1.0</th>\n",
              "      <th>2.0</th>\n",
              "      <th>3.0</th>\n",
              "      <th>4.0</th>\n",
              "      <th>5.0</th>\n",
              "      <th>6.0</th>\n",
              "      <th>7.0</th>\n",
              "      <th>8.0</th>\n",
              "      <th>9.0</th>\n",
              "      <th>10.0</th>\n",
              "    </tr>\n",
              "    <tr>\n",
              "      <th>reg_month</th>\n",
              "      <th></th>\n",
              "      <th></th>\n",
              "      <th></th>\n",
              "      <th></th>\n",
              "      <th></th>\n",
              "      <th></th>\n",
              "      <th></th>\n",
              "      <th></th>\n",
              "      <th></th>\n",
              "      <th></th>\n",
              "      <th></th>\n",
              "    </tr>\n",
              "  </thead>\n",
              "  <tbody>\n",
              "    <tr>\n",
              "      <th>2015-01-01</th>\n",
              "      <td>0.116928</td>\n",
              "      <td>0.116056</td>\n",
              "      <td>0.129581</td>\n",
              "      <td>0.116492</td>\n",
              "      <td>0.115183</td>\n",
              "      <td>0.124782</td>\n",
              "      <td>0.118237</td>\n",
              "      <td>0.131326</td>\n",
              "      <td>0.126091</td>\n",
              "      <td>0.148778</td>\n",
              "      <td>0.114311</td>\n",
              "    </tr>\n",
              "    <tr>\n",
              "      <th>2015-02-01</th>\n",
              "      <td>0.132856</td>\n",
              "      <td>0.141543</td>\n",
              "      <td>0.135922</td>\n",
              "      <td>0.121615</td>\n",
              "      <td>0.122126</td>\n",
              "      <td>0.119571</td>\n",
              "      <td>0.123659</td>\n",
              "      <td>0.149208</td>\n",
              "      <td>0.163005</td>\n",
              "      <td>0.105263</td>\n",
              "      <td>NaN</td>\n",
              "    </tr>\n",
              "    <tr>\n",
              "      <th>2015-03-01</th>\n",
              "      <td>0.164114</td>\n",
              "      <td>0.138403</td>\n",
              "      <td>0.129650</td>\n",
              "      <td>0.127462</td>\n",
              "      <td>0.138403</td>\n",
              "      <td>0.145514</td>\n",
              "      <td>0.138950</td>\n",
              "      <td>0.170678</td>\n",
              "      <td>0.117068</td>\n",
              "      <td>NaN</td>\n",
              "      <td>NaN</td>\n",
              "    </tr>\n",
              "    <tr>\n",
              "      <th>2015-04-01</th>\n",
              "      <td>0.193627</td>\n",
              "      <td>0.158088</td>\n",
              "      <td>0.144608</td>\n",
              "      <td>0.136029</td>\n",
              "      <td>0.161152</td>\n",
              "      <td>0.137255</td>\n",
              "      <td>0.167892</td>\n",
              "      <td>0.127451</td>\n",
              "      <td>NaN</td>\n",
              "      <td>NaN</td>\n",
              "      <td>NaN</td>\n",
              "    </tr>\n",
              "    <tr>\n",
              "      <th>2015-05-01</th>\n",
              "      <td>0.246457</td>\n",
              "      <td>0.184252</td>\n",
              "      <td>0.154331</td>\n",
              "      <td>0.136220</td>\n",
              "      <td>0.152756</td>\n",
              "      <td>0.159055</td>\n",
              "      <td>0.132283</td>\n",
              "      <td>NaN</td>\n",
              "      <td>NaN</td>\n",
              "      <td>NaN</td>\n",
              "      <td>NaN</td>\n",
              "    </tr>\n",
              "    <tr>\n",
              "      <th>2015-06-01</th>\n",
              "      <td>0.257924</td>\n",
              "      <td>0.216283</td>\n",
              "      <td>0.180236</td>\n",
              "      <td>0.168428</td>\n",
              "      <td>0.189559</td>\n",
              "      <td>0.141703</td>\n",
              "      <td>NaN</td>\n",
              "      <td>NaN</td>\n",
              "      <td>NaN</td>\n",
              "      <td>NaN</td>\n",
              "      <td>NaN</td>\n",
              "    </tr>\n",
              "    <tr>\n",
              "      <th>2015-07-01</th>\n",
              "      <td>0.283110</td>\n",
              "      <td>0.331367</td>\n",
              "      <td>0.179088</td>\n",
              "      <td>0.181769</td>\n",
              "      <td>0.124397</td>\n",
              "      <td>NaN</td>\n",
              "      <td>NaN</td>\n",
              "      <td>NaN</td>\n",
              "      <td>NaN</td>\n",
              "      <td>NaN</td>\n",
              "      <td>NaN</td>\n",
              "    </tr>\n",
              "    <tr>\n",
              "      <th>2015-08-01</th>\n",
              "      <td>0.423358</td>\n",
              "      <td>0.268613</td>\n",
              "      <td>0.222628</td>\n",
              "      <td>0.157664</td>\n",
              "      <td>NaN</td>\n",
              "      <td>NaN</td>\n",
              "      <td>NaN</td>\n",
              "      <td>NaN</td>\n",
              "      <td>NaN</td>\n",
              "      <td>NaN</td>\n",
              "      <td>NaN</td>\n",
              "    </tr>\n",
              "    <tr>\n",
              "      <th>2015-09-01</th>\n",
              "      <td>0.429314</td>\n",
              "      <td>0.381497</td>\n",
              "      <td>0.221414</td>\n",
              "      <td>NaN</td>\n",
              "      <td>NaN</td>\n",
              "      <td>NaN</td>\n",
              "      <td>NaN</td>\n",
              "      <td>NaN</td>\n",
              "      <td>NaN</td>\n",
              "      <td>NaN</td>\n",
              "      <td>NaN</td>\n",
              "    </tr>\n",
              "    <tr>\n",
              "      <th>2015-10-01</th>\n",
              "      <td>0.561974</td>\n",
              "      <td>0.448857</td>\n",
              "      <td>NaN</td>\n",
              "      <td>NaN</td>\n",
              "      <td>NaN</td>\n",
              "      <td>NaN</td>\n",
              "      <td>NaN</td>\n",
              "      <td>NaN</td>\n",
              "      <td>NaN</td>\n",
              "      <td>NaN</td>\n",
              "      <td>NaN</td>\n",
              "    </tr>\n",
              "    <tr>\n",
              "      <th>2015-11-01</th>\n",
              "      <td>1.000000</td>\n",
              "      <td>NaN</td>\n",
              "      <td>NaN</td>\n",
              "      <td>NaN</td>\n",
              "      <td>NaN</td>\n",
              "      <td>NaN</td>\n",
              "      <td>NaN</td>\n",
              "      <td>NaN</td>\n",
              "      <td>NaN</td>\n",
              "      <td>NaN</td>\n",
              "      <td>NaN</td>\n",
              "    </tr>\n",
              "  </tbody>\n",
              "</table>\n",
              "</div>"
            ],
            "text/plain": [
              "lifetime        0.0       1.0       2.0   ...      8.0       9.0       10.0\n",
              "reg_month                                 ...                              \n",
              "2015-01-01  0.116928  0.116056  0.129581  ...  0.126091  0.148778  0.114311\n",
              "2015-02-01  0.132856  0.141543  0.135922  ...  0.163005  0.105263       NaN\n",
              "2015-03-01  0.164114  0.138403  0.129650  ...  0.117068       NaN       NaN\n",
              "2015-04-01  0.193627  0.158088  0.144608  ...       NaN       NaN       NaN\n",
              "2015-05-01  0.246457  0.184252  0.154331  ...       NaN       NaN       NaN\n",
              "2015-06-01  0.257924  0.216283  0.180236  ...       NaN       NaN       NaN\n",
              "2015-07-01  0.283110  0.331367  0.179088  ...       NaN       NaN       NaN\n",
              "2015-08-01  0.423358  0.268613  0.222628  ...       NaN       NaN       NaN\n",
              "2015-09-01  0.429314  0.381497  0.221414  ...       NaN       NaN       NaN\n",
              "2015-10-01  0.561974  0.448857       NaN  ...       NaN       NaN       NaN\n",
              "2015-11-01  1.000000       NaN       NaN  ...       NaN       NaN       NaN\n",
              "\n",
              "[11 rows x 11 columns]"
            ]
          },
          "metadata": {},
          "execution_count": 35
        }
      ]
    },
    {
      "cell_type": "code",
      "metadata": {
        "id": "g37HY6hZt2mw"
      },
      "source": [
        ""
      ],
      "execution_count": null,
      "outputs": []
    }
  ]
}